{
 "cells": [
  {
   "cell_type": "markdown",
   "metadata": {},
   "source": [
    "ITERATOR"
   ]
  },
  {
   "cell_type": "raw",
   "metadata": {},
   "source": [
    "An iterator is an object that contains a countable number of values.\n",
    "An iterator is an object that can be iterated upon, meaning that you can traverse through all the values.\n",
    "The iterator protocol consists of two methos:\n",
    "__iter__()\n",
    "__next__()\n",
    "\n",
    "__iter__ method that is called on initialization of an iterator. \n",
    "This should return an object that has a next or __next__ (in Python 3) method.\n",
    "\n",
    "next ( __next__ in Python 3) The iterator next method should return the next value for the iterable.\n",
    "When an iterator is used with a ‘for in’ loop, the for loop implicitly calls next() on the iterator object.\n",
    "\n"
   ]
  },
  {
   "cell_type": "code",
   "execution_count": 1,
   "metadata": {},
   "outputs": [
    {
     "name": "stdout",
     "output_type": "stream",
     "text": [
      "1\n",
      "a\n",
      "2\n",
      "hello\n"
     ]
    }
   ],
   "source": [
    "l = [1,'a', 2, \"hello\"]\n",
    "iterator = iter(l)\n",
    "print(next(iterator))\n",
    "print(next(iterator))\n",
    "print(next(iterator))\n",
    "print(next(iterator))\n"
   ]
  },
  {
   "cell_type": "markdown",
   "metadata": {},
   "source": [
    "MAP"
   ]
  },
  {
   "cell_type": "raw",
   "metadata": {},
   "source": [
    "map():\n",
    "The map() function applies a given function to each item of an iterable (list, tuple etc.) and returns a list of the results.\n",
    "\n",
    "parameters :\n",
    " .function :  map() passes each value of iterator to this function\n",
    " .iterable : on which function is to be mapped\n",
    "return value : list of the result."
   ]
  },
  {
   "cell_type": "code",
   "execution_count": 2,
   "metadata": {},
   "outputs": [
    {
     "name": "stdout",
     "output_type": "stream",
     "text": [
      "[1, 8, 27, 64]\n"
     ]
    }
   ],
   "source": [
    "# using map\n",
    "def no_cube(n):\n",
    "    return n*n*n\n",
    "numbers =[1,2,3,4]\n",
    "result = list(map(no_cube, numbers))\n",
    "print(result)"
   ]
  },
  {
   "cell_type": "markdown",
   "metadata": {},
   "source": [
    "Reduce"
   ]
  },
  {
   "cell_type": "raw",
   "metadata": {},
   "source": [
    "reduce() :\n",
    "Applies the particular function passed to it to all elements of the passed sequence.\n",
    "This function is defined in functool module of python\n",
    "\n",
    "The reduce function will transform a given list into a single value by applying a given function continuously to all the elements. It basically keeps operating on pairs of elements until there are no more elements left."
   ]
  },
  {
   "cell_type": "code",
   "execution_count": 3,
   "metadata": {},
   "outputs": [
    {
     "name": "stdout",
     "output_type": "stream",
     "text": [
      "Sum of elements of List: 55\n"
     ]
    }
   ],
   "source": [
    "# example of reduce()\n",
    "import functools\n",
    "def addition(a,b):\n",
    "    return a+b\n",
    "l = [1,2,3,4,5,6,7,8,9,10]\n",
    "add_result = functools.reduce(addition, l)\n",
    "print(\"Sum of elements of List:\",add_result)"
   ]
  },
  {
   "cell_type": "markdown",
   "metadata": {},
   "source": [
    "LIST COMPREHENSION"
   ]
  },
  {
   "cell_type": "raw",
   "metadata": {},
   "source": [
    "List comprehensions provide a concise way to create lists. \n",
    "It consists of brackets containing an expression followed by a for clause, then\n",
    "zero or more for or if clauses. The expressions can be anything, meaning you can\n",
    "put in all kinds of objects in lists.\n",
    "The result will be a new list resulting from evaluating the expression in the\n",
    "context of the for and if clauses which follow it. "
   ]
  },
  {
   "cell_type": "code",
   "execution_count": 11,
   "metadata": {},
   "outputs": [
    {
     "data": {
      "text/plain": [
       "[0, 10, 20, 30, 40, 50, 60, 70, 80, 90]"
      ]
     },
     "execution_count": 11,
     "metadata": {},
     "output_type": "execute_result"
    }
   ],
   "source": [
    "[a*10 for a in range(10)]"
   ]
  },
  {
   "cell_type": "code",
   "execution_count": 12,
   "metadata": {},
   "outputs": [
    {
     "data": {
      "text/plain": [
       "[11, 21, 31, 12, 22, 32, 13, 23, 33]"
      ]
     },
     "execution_count": 12,
     "metadata": {},
     "output_type": "execute_result"
    }
   ],
   "source": [
    "[x+y for x in [1,2,3] for y in [10,20,30]]"
   ]
  },
  {
   "cell_type": "markdown",
   "metadata": {},
   "source": [
    "MAGIC FUNCTIONS"
   ]
  },
  {
   "cell_type": "raw",
   "metadata": {},
   "source": [
    "Dunder or magic methods in Python:-\n",
    "Dunder or magic methods in Python are the methods having two prefix and suffix underscores in the method name. \n",
    "Dunder here means “Double Under (Underscores)”. \n",
    "These are commonly used for operator overloading.\n",
    "Few examples for magic methods are: __init__, __add__, __len__, __repr__ etc.\n",
    "The __init__ method for initialization is invoked without any call, when an instance of a class is created, like constructors in certain other programming languages such as C++, Java, C#, PHP etc.\n",
    "These methods are the reason we can add two strings with ‘+’ operator without any explicit typecasting."
   ]
  },
  {
   "cell_type": "code",
   "execution_count": 13,
   "metadata": {},
   "outputs": [
    {
     "name": "stdout",
     "output_type": "stream",
     "text": [
      "<__main__.String object at 0x000001E52CDC2160>\n"
     ]
    }
   ],
   "source": [
    "class String: \n",
    "    def __init__(self, string): \n",
    "        self.string = string \n",
    "if __name__ == '__main__': \n",
    "    string1 = String('Hello') \n",
    "  \n",
    "# print object location\n",
    "print(string1)"
   ]
  },
  {
   "cell_type": "markdown",
   "metadata": {},
   "source": [
    "RMS"
   ]
  },
  {
   "cell_type": "code",
   "execution_count": 15,
   "metadata": {},
   "outputs": [
    {
     "name": "stdout",
     "output_type": "stream",
     "text": [
      "27.386127875258307\n"
     ]
    }
   ],
   "source": [
    "import  numpy as np \n",
    "a=np.array([10,20,30,40])\n",
    "rms=np.sqrt(np.mean(a**2))\n",
    "print(rms)"
   ]
  },
  {
   "cell_type": "markdown",
   "metadata": {},
   "source": [
    "Euclidean Distance"
   ]
  },
  {
   "cell_type": "code",
   "execution_count": 16,
   "metadata": {},
   "outputs": [
    {
     "name": "stdout",
     "output_type": "stream",
     "text": [
      "1.7320508075688772\n"
     ]
    }
   ],
   "source": [
    "#Euclidean Distance Calculation\n",
    "import numpy as np\n",
    "import math\n",
    "x1,y1,z1=0,0,0\n",
    "x2,y2,z2=1,1,1\n",
    "a = np.array((x1,y1,z1))\n",
    "b = np.array((x2,y2,z2))\n",
    "dist = math.sqrt((x2-x1)^2 + (y2-y1)^2 + (z2-z1)^2)\n",
    "print(dist)"
   ]
  },
  {
   "cell_type": "markdown",
   "metadata": {},
   "source": []
  },
  {
   "cell_type": "code",
   "execution_count": null,
   "metadata": {},
   "outputs": [],
   "source": [
    "# zip function use\n",
    "list1 = [1,2,3,4]\n",
    "list2 = ['a', 'b', 'c']\n",
    "zipped = zip()\n",
    "list_zipped = list(zipped)\n",
    "print(list_zipped)\n",
    "zipped = zip(list1,list2)\n",
    "list_zipped = list(zipped)\n",
    "print(list_zipped)\n",
    "#unzipping\n",
    "c,v=zip(*list_zipped)\n",
    "print(c)\n",
    "print(v)"
   ]
  }
 ],
 "metadata": {
  "kernelspec": {
   "display_name": "Python 3",
   "language": "python",
   "name": "python3"
  },
  "language_info": {
   "codemirror_mode": {
    "name": "ipython",
    "version": 3
   },
   "file_extension": ".py",
   "mimetype": "text/x-python",
   "name": "python",
   "nbconvert_exporter": "python",
   "pygments_lexer": "ipython3",
   "version": "3.6.5"
  }
 },
 "nbformat": 4,
 "nbformat_minor": 2
}
